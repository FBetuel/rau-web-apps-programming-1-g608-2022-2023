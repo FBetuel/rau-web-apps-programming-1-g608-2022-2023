{
 "cells": [
  {
   "cell_type": "code",
   "execution_count": 1,
   "metadata": {
    "collapsed": true
   },
   "outputs": [],
   "source": [
    "import sqlite3\n",
    "# pip install sqlite3 (in command prompt / terminal)"
   ]
  },
  {
   "cell_type": "code",
   "execution_count": 2,
   "outputs": [],
   "source": [
    "connection_string = \"tiroyal/datastore/users.db\""
   ],
   "metadata": {
    "collapsed": false,
    "pycharm": {
     "name": "#%%\n"
    }
   }
  },
  {
   "cell_type": "code",
   "execution_count": 3,
   "outputs": [
    {
     "data": {
      "text/plain": "<sqlite3.Connection at 0x7fe04fd18300>"
     },
     "execution_count": 3,
     "metadata": {},
     "output_type": "execute_result"
    }
   ],
   "source": [
    "conn = sqlite3.connect(\"tiroyal/datastore/users.db\")\n",
    "conn"
   ],
   "metadata": {
    "collapsed": false,
    "pycharm": {
     "name": "#%%\n"
    }
   }
  },
  {
   "cell_type": "code",
   "execution_count": 4,
   "outputs": [
    {
     "name": "stdout",
     "output_type": "stream",
     "text": [
      "[(1, 'User 1', 'user1@email.com', 'sjf32!sdAA--', 'sjf32!sdAA--'), (2, 'User 2', 'user2@email.com', '0dsd31--!!A', '0dsd31--!!A')]\n"
     ]
    }
   ],
   "source": [
    "conn = sqlite3.connect(\"tiroyal/datastore/users.db\")\n",
    "\n",
    "# create select query\n",
    "query = \"select id, name, email, password, second_password from users;\"\n",
    "\n",
    "# initialise a cursor\n",
    "cursor = conn.cursor()\n",
    "\n",
    "# execute query using the cursor\n",
    "results = cursor.execute(query)\n",
    "print(list(results))\n",
    "\n",
    "# (optional) commit (pt modificari ale datelor)\n",
    "\n",
    "# (optional) close db connection\n",
    "conn.close()"
   ],
   "metadata": {
    "collapsed": false,
    "pycharm": {
     "name": "#%%\n"
    }
   }
  },
  {
   "cell_type": "code",
   "execution_count": 5,
   "outputs": [],
   "source": [
    "# create data (insert)\n",
    "# INSERT INTO <table_name> (<column_name_1>, <column_name_2>, ...)\n",
    "# VALUES (<value1>, <value2>, ...);\n",
    "\n",
    "query = \"\"\"INSERT INTO users(name, email, password, second_password)\n",
    "VALUES ('User 1', 'user1@email.com', 'sjf32!sdAA--', 'sjf32!sdAA--');\"\"\"\n",
    "\n",
    "conn = sqlite3.connect(connection_string)\n",
    "cursor = conn.cursor()\n",
    "# cursor.execute(query)\n",
    "# conn.commit()\n",
    "conn.close()"
   ],
   "metadata": {
    "collapsed": false,
    "pycharm": {
     "name": "#%%\n"
    }
   }
  },
  {
   "cell_type": "code",
   "execution_count": 6,
   "outputs": [],
   "source": [
    "from tiroyal.server.users import User"
   ],
   "metadata": {
    "collapsed": false,
    "pycharm": {
     "name": "#%%\n"
    }
   }
  },
  {
   "cell_type": "code",
   "execution_count": 7,
   "outputs": [],
   "source": [
    "def create_user(user, connection_string):\n",
    "    query = f\"\"\"INSERT INTO users(name, email, password, second_password)\n",
    "            VALUES ('{user.name}', '{user.email}', '{user.password}', '{user.second_password}');\"\"\"\n",
    "\n",
    "    conn = sqlite3.connect(connection_string)\n",
    "    cursor = conn.cursor()\n",
    "    cursor.execute(query)\n",
    "    conn.commit()\n",
    "    conn.close()"
   ],
   "metadata": {
    "collapsed": false,
    "pycharm": {
     "name": "#%%\n"
    }
   }
  },
  {
   "cell_type": "code",
   "execution_count": 8,
   "outputs": [],
   "source": [
    "user1 = User(\"User 2\", \"user2@email.com\", \"0dsd31--!!A\", \"0dsd31--!!A\")\n",
    "# create_user(user1, connection_string)"
   ],
   "metadata": {
    "collapsed": false,
    "pycharm": {
     "name": "#%%\n"
    }
   }
  },
  {
   "cell_type": "code",
   "execution_count": 9,
   "outputs": [],
   "source": [
    "def get_user_email_and_password(user, connection_string):\n",
    "    conn = sqlite3.connect(connection_string)\n",
    "\n",
    "    # create select query\n",
    "    query = f\"select email, password from users where email = '{user.email}';\"\n",
    "\n",
    "    # initialise a cursor\n",
    "    cursor = conn.cursor()\n",
    "\n",
    "    # execute query using the cursor\n",
    "    results = cursor.execute(query)\n",
    "    return list(results)"
   ],
   "metadata": {
    "collapsed": false,
    "pycharm": {
     "name": "#%%\n"
    }
   }
  },
  {
   "cell_type": "code",
   "execution_count": 10,
   "outputs": [
    {
     "data": {
      "text/plain": "(['*', '?', '!', '#', '&', '=', '(', ')', '_', '-'],\n ['*', '?', '!', '#', '&', '=', '(', ')', '_', '-'])"
     },
     "execution_count": 10,
     "metadata": {},
     "output_type": "execute_result"
    }
   ],
   "source": [
    "user2 = User(\"User 3\", \"user3@email.com\", \"0dsd31--!!A\", \"0dsd31--!!A\")\n",
    "user1.special_characters, user2.special_characters"
   ],
   "metadata": {
    "collapsed": false,
    "pycharm": {
     "name": "#%%\n"
    }
   }
  },
  {
   "cell_type": "code",
   "execution_count": 11,
   "outputs": [],
   "source": [
    "User.special_characters.append(\"a\")"
   ],
   "metadata": {
    "collapsed": false,
    "pycharm": {
     "name": "#%%\n"
    }
   }
  },
  {
   "cell_type": "code",
   "execution_count": 12,
   "outputs": [
    {
     "data": {
      "text/plain": "(['*', '?', '!', '#', '&', '=', '(', ')', '_', '-', 'a'],\n ['*', '?', '!', '#', '&', '=', '(', ')', '_', '-', 'a'])"
     },
     "execution_count": 12,
     "metadata": {},
     "output_type": "execute_result"
    }
   ],
   "source": [
    "user1.special_characters, user2.special_characters"
   ],
   "metadata": {
    "collapsed": false,
    "pycharm": {
     "name": "#%%\n"
    }
   }
  },
  {
   "cell_type": "code",
   "execution_count": 13,
   "outputs": [
    {
     "data": {
      "text/plain": "'a'"
     },
     "execution_count": 13,
     "metadata": {},
     "output_type": "execute_result"
    }
   ],
   "source": [
    "user1.special_characters.pop()"
   ],
   "metadata": {
    "collapsed": false,
    "pycharm": {
     "name": "#%%\n"
    }
   }
  },
  {
   "cell_type": "code",
   "execution_count": 14,
   "outputs": [
    {
     "data": {
      "text/plain": "(['*', '?', '!', '#', '&', '=', '(', ')', '_', '-'],\n ['*', '?', '!', '#', '&', '=', '(', ')', '_', '-'])"
     },
     "execution_count": 14,
     "metadata": {},
     "output_type": "execute_result"
    }
   ],
   "source": [
    "user1.special_characters, user2.special_characters"
   ],
   "metadata": {
    "collapsed": false,
    "pycharm": {
     "name": "#%%\n"
    }
   }
  },
  {
   "cell_type": "code",
   "execution_count": 15,
   "outputs": [
    {
     "name": "stdout",
     "output_type": "stream",
     "text": [
      "Hello\n"
     ]
    }
   ],
   "source": [
    "User.print_hello()"
   ],
   "metadata": {
    "collapsed": false,
    "pycharm": {
     "name": "#%%\n"
    }
   }
  },
  {
   "cell_type": "code",
   "execution_count": 16,
   "outputs": [
    {
     "data": {
      "text/plain": "<tiroyal.server.users.User at 0x7fe04fdacbb0>"
     },
     "execution_count": 16,
     "metadata": {},
     "output_type": "execute_result"
    }
   ],
   "source": [
    "user_dict = {\n",
    "    \"name\": \"User 3\",\n",
    "    \"email\": \"user3@email.com\",\n",
    "    \"password\": \"0dsd31--!!A\",\n",
    "    \"second_password\": \"0dsd31--!!A\"\n",
    "}\n",
    "User.from_dict(user_dict)"
   ],
   "metadata": {
    "collapsed": false,
    "pycharm": {
     "name": "#%%\n"
    }
   }
  },
  {
   "cell_type": "code",
   "execution_count": 17,
   "outputs": [
    {
     "data": {
      "text/plain": "[<tiroyal.server.users.User at 0x7fe04fda23a0>,\n <tiroyal.server.users.User at 0x7fe04fda2400>]"
     },
     "execution_count": 17,
     "metadata": {},
     "output_type": "execute_result"
    }
   ],
   "source": [
    "from tiroyal.server.repository import get_all_users\n",
    "get_all_users(connection_string)"
   ],
   "metadata": {
    "collapsed": false,
    "pycharm": {
     "name": "#%%\n"
    }
   }
  },
  {
   "cell_type": "code",
   "execution_count": null,
   "outputs": [],
   "source": [],
   "metadata": {
    "collapsed": false,
    "pycharm": {
     "name": "#%%\n"
    }
   }
  }
 ],
 "metadata": {
  "kernelspec": {
   "display_name": "Python 3",
   "language": "python",
   "name": "python3"
  },
  "language_info": {
   "codemirror_mode": {
    "name": "ipython",
    "version": 2
   },
   "file_extension": ".py",
   "mimetype": "text/x-python",
   "name": "python",
   "nbconvert_exporter": "python",
   "pygments_lexer": "ipython2",
   "version": "2.7.6"
  }
 },
 "nbformat": 4,
 "nbformat_minor": 0
}